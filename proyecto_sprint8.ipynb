{
 "cells": [
  {
   "cell_type": "markdown",
   "metadata": {},
   "source": [
    "# CLIMA Y KILÓMETROS: ANÁLISIS DEL IMPACTO METEOROLÓGICO EN LA FRECUENCIA DE VIAJES. "
   ]
  },
  {
   "cell_type": "markdown",
   "metadata": {},
   "source": [
    "# DESCRIPCIÓN \n",
    "En el contexto de la industria de los viajes compartidos, el análisis de datos es fundamental para comprender las dinámicas del mercado y optimizar la toma de decisiones. Estoy trabajando como analista para Zuber, una nueva empresa de viajes compartidos que se está lanzando en la competitiva ciudad de Chicago. Mi tarea es identificar patrones en la información disponible para entender mejor las preferencias de los pasajeros y evaluar el impacto de factores externos, como el clima, en la demanda de viajes.\n",
    "\n",
    "El presente proyecto tiene como objetivo explorar y analizar los datos de nuestros competidores y probar una hipótesis específica relacionada con el impacto del clima en la duración de los viajes. A través de un análisis exhaustivo de los datos, buscamos obtener información valiosa que nos permita mejorar nuestras operaciones y ofrecer un servicio más eficiente y atractivo para nuestros usuarios.\n",
    "\n",
    "Para lograr esto, utilizaremos una combinación de técnicas de análisis de datos, incluyendo la exploración de conjuntos de datos proporcionados por la competencia y la aplicación de métodos estadísticos para probar la hipótesis propuesta. Este enfoque nos permitirá no solo identificar tendencias y patrones clave en el comportamiento de los usuarios, sino también entender cómo las condiciones climáticas pueden influir en la duración y frecuencia de los viajes."
   ]
  },
  {
   "cell_type": "markdown",
   "metadata": {},
   "source": [
    "## Diccionario de datos. \n",
    "`project_sql_result_01.csv`:\n",
    "\n",
    " - `'company_name'`: nombre de la empresa de taxis\n",
    "\n",
    " - `'trips_amount'`: el número de viajes de cada compañía de taxis el 15 y 16 de noviembre de 2017. \n",
    "\n",
    "`project_sql_result_04.csv`\n",
    "\n",
    " - `'dropoff_location_name'`: barrios de Chicago donde finalizaron los viajes\n",
    "\n",
    " - `'average_trips'`: el promedio de viajes que terminaron en cada barrio en noviembre de 2017.\n",
    " \n",
    "`project_sql_result_07.csv`: En esta base de dato se contiene datos sobre viajes desde el Loop hasta el Aeropuerto Internacional O'Hare.\n",
    "\n",
    " - `'start_ts'`: fecha y hora de la recogida\n",
    " - `'weather_conditions'`: condiciones climáticas en el momento en el que comenzó el viaje\n",
    " - `'duration_seconds'`: duración del viaje en segundos"
   ]
  },
  {
   "cell_type": "markdown",
   "metadata": {},
   "source": [
    "# 1.1  Inicialización "
   ]
  },
  {
   "cell_type": "code",
   "execution_count": 1,
   "metadata": {},
   "outputs": [],
   "source": [
    "# Cargar todas las librerías a usar en el proyecto. \n",
    "import pandas as pd \n",
    "import numpy as np\n",
    "import matplotlib.pyplot as plt \n",
    "from scipy import stats as st\n",
    "import seaborn as sns"
   ]
  },
  {
   "cell_type": "markdown",
   "metadata": {},
   "source": [
    "# 1.2 Cargar datos. "
   ]
  },
  {
   "cell_type": "code",
   "execution_count": 2,
   "metadata": {},
   "outputs": [],
   "source": [
    "# Carga los archivos\n",
    "trips_data = pd.read_csv('/datasets/project_sql_result_01.csv')\n",
    "location_data = pd.read_csv('/datasets/project_sql_result_04.csv')\n",
    "weather_data = pd.read_csv('/datasets/project_sql_result_07.csv')"
   ]
  },
  {
   "cell_type": "markdown",
   "metadata": {},
   "source": [
    "# 1.3 Análisis de los datos"
   ]
  },
  {
   "cell_type": "code",
   "execution_count": 3,
   "metadata": {},
   "outputs": [
    {
     "name": "stdout",
     "output_type": "stream",
     "text": [
      "<class 'pandas.core.frame.DataFrame'>\n",
      "RangeIndex: 64 entries, 0 to 63\n",
      "Data columns (total 2 columns):\n",
      " #   Column        Non-Null Count  Dtype \n",
      "---  ------        --------------  ----- \n",
      " 0   company_name  64 non-null     object\n",
      " 1   trips_amount  64 non-null     int64 \n",
      "dtypes: int64(1), object(1)\n",
      "memory usage: 1.1+ KB\n",
      "\n",
      "------------------------------------------------------------------\n",
      "<class 'pandas.core.frame.DataFrame'>\n",
      "RangeIndex: 94 entries, 0 to 93\n",
      "Data columns (total 2 columns):\n",
      " #   Column                 Non-Null Count  Dtype  \n",
      "---  ------                 --------------  -----  \n",
      " 0   dropoff_location_name  94 non-null     object \n",
      " 1   average_trips          94 non-null     float64\n",
      "dtypes: float64(1), object(1)\n",
      "memory usage: 1.6+ KB\n",
      "\n",
      "------------------------------------------------------------------\n",
      "<class 'pandas.core.frame.DataFrame'>\n",
      "RangeIndex: 1068 entries, 0 to 1067\n",
      "Data columns (total 3 columns):\n",
      " #   Column              Non-Null Count  Dtype  \n",
      "---  ------              --------------  -----  \n",
      " 0   start_ts            1068 non-null   object \n",
      " 1   weather_conditions  1068 non-null   object \n",
      " 2   duration_seconds    1068 non-null   float64\n",
      "dtypes: float64(1), object(2)\n",
      "memory usage: 25.2+ KB\n"
     ]
    },
    {
     "data": {
      "text/html": [
       "<div>\n",
       "<style scoped>\n",
       "    .dataframe tbody tr th:only-of-type {\n",
       "        vertical-align: middle;\n",
       "    }\n",
       "\n",
       "    .dataframe tbody tr th {\n",
       "        vertical-align: top;\n",
       "    }\n",
       "\n",
       "    .dataframe thead th {\n",
       "        text-align: right;\n",
       "    }\n",
       "</style>\n",
       "<table border=\"1\" class=\"dataframe\">\n",
       "  <thead>\n",
       "    <tr style=\"text-align: right;\">\n",
       "      <th></th>\n",
       "      <th>duration_seconds</th>\n",
       "    </tr>\n",
       "  </thead>\n",
       "  <tbody>\n",
       "    <tr>\n",
       "      <th>count</th>\n",
       "      <td>1068.000000</td>\n",
       "    </tr>\n",
       "    <tr>\n",
       "      <th>mean</th>\n",
       "      <td>2071.731273</td>\n",
       "    </tr>\n",
       "    <tr>\n",
       "      <th>std</th>\n",
       "      <td>769.461125</td>\n",
       "    </tr>\n",
       "    <tr>\n",
       "      <th>min</th>\n",
       "      <td>0.000000</td>\n",
       "    </tr>\n",
       "    <tr>\n",
       "      <th>25%</th>\n",
       "      <td>1438.250000</td>\n",
       "    </tr>\n",
       "    <tr>\n",
       "      <th>50%</th>\n",
       "      <td>1980.000000</td>\n",
       "    </tr>\n",
       "    <tr>\n",
       "      <th>75%</th>\n",
       "      <td>2580.000000</td>\n",
       "    </tr>\n",
       "    <tr>\n",
       "      <th>max</th>\n",
       "      <td>7440.000000</td>\n",
       "    </tr>\n",
       "  </tbody>\n",
       "</table>\n",
       "</div>"
      ],
      "text/plain": [
       "       duration_seconds\n",
       "count       1068.000000\n",
       "mean        2071.731273\n",
       "std          769.461125\n",
       "min            0.000000\n",
       "25%         1438.250000\n",
       "50%         1980.000000\n",
       "75%         2580.000000\n",
       "max         7440.000000"
      ]
     },
     "execution_count": 3,
     "metadata": {},
     "output_type": "execute_result"
    }
   ],
   "source": [
    "#Obtener la inofrmación de las bases de datos  con la cual se esta trabajando \n",
    "trips_data.info()\n",
    "trips_data.describe()\n",
    "print()\n",
    "print('------------------------------------------------------------------')\n",
    "location_data.info()\n",
    "location_data.describe()\n",
    "print()\n",
    "print('------------------------------------------------------------------')\n",
    "weather_data.info()\n",
    "weather_data.describe()"
   ]
  },
  {
   "cell_type": "code",
   "execution_count": 4,
   "metadata": {},
   "outputs": [
    {
     "data": {
      "text/html": [
       "<div>\n",
       "<style scoped>\n",
       "    .dataframe tbody tr th:only-of-type {\n",
       "        vertical-align: middle;\n",
       "    }\n",
       "\n",
       "    .dataframe tbody tr th {\n",
       "        vertical-align: top;\n",
       "    }\n",
       "\n",
       "    .dataframe thead th {\n",
       "        text-align: right;\n",
       "    }\n",
       "</style>\n",
       "<table border=\"1\" class=\"dataframe\">\n",
       "  <thead>\n",
       "    <tr style=\"text-align: right;\">\n",
       "      <th></th>\n",
       "      <th>company_name</th>\n",
       "      <th>trips_amount</th>\n",
       "    </tr>\n",
       "  </thead>\n",
       "  <tbody>\n",
       "    <tr>\n",
       "      <th>0</th>\n",
       "      <td>Flash Cab</td>\n",
       "      <td>19558</td>\n",
       "    </tr>\n",
       "    <tr>\n",
       "      <th>1</th>\n",
       "      <td>Taxi Affiliation Services</td>\n",
       "      <td>11422</td>\n",
       "    </tr>\n",
       "    <tr>\n",
       "      <th>2</th>\n",
       "      <td>Medallion Leasing</td>\n",
       "      <td>10367</td>\n",
       "    </tr>\n",
       "    <tr>\n",
       "      <th>3</th>\n",
       "      <td>Yellow Cab</td>\n",
       "      <td>9888</td>\n",
       "    </tr>\n",
       "    <tr>\n",
       "      <th>4</th>\n",
       "      <td>Taxi Affiliation Service Yellow</td>\n",
       "      <td>9299</td>\n",
       "    </tr>\n",
       "    <tr>\n",
       "      <th>5</th>\n",
       "      <td>Chicago Carriage Cab Corp</td>\n",
       "      <td>9181</td>\n",
       "    </tr>\n",
       "    <tr>\n",
       "      <th>6</th>\n",
       "      <td>City Service</td>\n",
       "      <td>8448</td>\n",
       "    </tr>\n",
       "    <tr>\n",
       "      <th>7</th>\n",
       "      <td>Sun Taxi</td>\n",
       "      <td>7701</td>\n",
       "    </tr>\n",
       "    <tr>\n",
       "      <th>8</th>\n",
       "      <td>Star North Management LLC</td>\n",
       "      <td>7455</td>\n",
       "    </tr>\n",
       "    <tr>\n",
       "      <th>9</th>\n",
       "      <td>Blue Ribbon Taxi Association Inc.</td>\n",
       "      <td>5953</td>\n",
       "    </tr>\n",
       "  </tbody>\n",
       "</table>\n",
       "</div>"
      ],
      "text/plain": [
       "                        company_name  trips_amount\n",
       "0                          Flash Cab         19558\n",
       "1          Taxi Affiliation Services         11422\n",
       "2                  Medallion Leasing         10367\n",
       "3                         Yellow Cab          9888\n",
       "4    Taxi Affiliation Service Yellow          9299\n",
       "5          Chicago Carriage Cab Corp          9181\n",
       "6                       City Service          8448\n",
       "7                           Sun Taxi          7701\n",
       "8          Star North Management LLC          7455\n",
       "9  Blue Ribbon Taxi Association Inc.          5953"
      ]
     },
     "execution_count": 4,
     "metadata": {},
     "output_type": "execute_result"
    }
   ],
   "source": [
    "# Obtener las 10 primeras filas de las bases de datos \n",
    "trips_data.head(10)"
   ]
  },
  {
   "cell_type": "code",
   "execution_count": 5,
   "metadata": {},
   "outputs": [
    {
     "data": {
      "text/html": [
       "<div>\n",
       "<style scoped>\n",
       "    .dataframe tbody tr th:only-of-type {\n",
       "        vertical-align: middle;\n",
       "    }\n",
       "\n",
       "    .dataframe tbody tr th {\n",
       "        vertical-align: top;\n",
       "    }\n",
       "\n",
       "    .dataframe thead th {\n",
       "        text-align: right;\n",
       "    }\n",
       "</style>\n",
       "<table border=\"1\" class=\"dataframe\">\n",
       "  <thead>\n",
       "    <tr style=\"text-align: right;\">\n",
       "      <th></th>\n",
       "      <th>dropoff_location_name</th>\n",
       "      <th>average_trips</th>\n",
       "    </tr>\n",
       "  </thead>\n",
       "  <tbody>\n",
       "    <tr>\n",
       "      <th>0</th>\n",
       "      <td>Loop</td>\n",
       "      <td>10727.466667</td>\n",
       "    </tr>\n",
       "    <tr>\n",
       "      <th>1</th>\n",
       "      <td>River North</td>\n",
       "      <td>9523.666667</td>\n",
       "    </tr>\n",
       "    <tr>\n",
       "      <th>2</th>\n",
       "      <td>Streeterville</td>\n",
       "      <td>6664.666667</td>\n",
       "    </tr>\n",
       "    <tr>\n",
       "      <th>3</th>\n",
       "      <td>West Loop</td>\n",
       "      <td>5163.666667</td>\n",
       "    </tr>\n",
       "    <tr>\n",
       "      <th>4</th>\n",
       "      <td>O'Hare</td>\n",
       "      <td>2546.900000</td>\n",
       "    </tr>\n",
       "  </tbody>\n",
       "</table>\n",
       "</div>"
      ],
      "text/plain": [
       "  dropoff_location_name  average_trips\n",
       "0                  Loop   10727.466667\n",
       "1           River North    9523.666667\n",
       "2         Streeterville    6664.666667\n",
       "3             West Loop    5163.666667\n",
       "4                O'Hare    2546.900000"
      ]
     },
     "execution_count": 5,
     "metadata": {},
     "output_type": "execute_result"
    }
   ],
   "source": [
    "# Obtener las 10 primeras filas del base de datos \n",
    "location_data.head()"
   ]
  },
  {
   "cell_type": "code",
   "execution_count": 6,
   "metadata": {},
   "outputs": [
    {
     "data": {
      "text/html": [
       "<div>\n",
       "<style scoped>\n",
       "    .dataframe tbody tr th:only-of-type {\n",
       "        vertical-align: middle;\n",
       "    }\n",
       "\n",
       "    .dataframe tbody tr th {\n",
       "        vertical-align: top;\n",
       "    }\n",
       "\n",
       "    .dataframe thead th {\n",
       "        text-align: right;\n",
       "    }\n",
       "</style>\n",
       "<table border=\"1\" class=\"dataframe\">\n",
       "  <thead>\n",
       "    <tr style=\"text-align: right;\">\n",
       "      <th></th>\n",
       "      <th>start_ts</th>\n",
       "      <th>weather_conditions</th>\n",
       "      <th>duration_seconds</th>\n",
       "    </tr>\n",
       "  </thead>\n",
       "  <tbody>\n",
       "    <tr>\n",
       "      <th>0</th>\n",
       "      <td>2017-11-25 16:00:00</td>\n",
       "      <td>Good</td>\n",
       "      <td>2410.0</td>\n",
       "    </tr>\n",
       "    <tr>\n",
       "      <th>1</th>\n",
       "      <td>2017-11-25 14:00:00</td>\n",
       "      <td>Good</td>\n",
       "      <td>1920.0</td>\n",
       "    </tr>\n",
       "    <tr>\n",
       "      <th>2</th>\n",
       "      <td>2017-11-25 12:00:00</td>\n",
       "      <td>Good</td>\n",
       "      <td>1543.0</td>\n",
       "    </tr>\n",
       "    <tr>\n",
       "      <th>3</th>\n",
       "      <td>2017-11-04 10:00:00</td>\n",
       "      <td>Good</td>\n",
       "      <td>2512.0</td>\n",
       "    </tr>\n",
       "    <tr>\n",
       "      <th>4</th>\n",
       "      <td>2017-11-11 07:00:00</td>\n",
       "      <td>Good</td>\n",
       "      <td>1440.0</td>\n",
       "    </tr>\n",
       "    <tr>\n",
       "      <th>5</th>\n",
       "      <td>2017-11-11 04:00:00</td>\n",
       "      <td>Good</td>\n",
       "      <td>1320.0</td>\n",
       "    </tr>\n",
       "    <tr>\n",
       "      <th>6</th>\n",
       "      <td>2017-11-04 16:00:00</td>\n",
       "      <td>Bad</td>\n",
       "      <td>2969.0</td>\n",
       "    </tr>\n",
       "    <tr>\n",
       "      <th>7</th>\n",
       "      <td>2017-11-18 11:00:00</td>\n",
       "      <td>Good</td>\n",
       "      <td>2280.0</td>\n",
       "    </tr>\n",
       "    <tr>\n",
       "      <th>8</th>\n",
       "      <td>2017-11-11 14:00:00</td>\n",
       "      <td>Good</td>\n",
       "      <td>2460.0</td>\n",
       "    </tr>\n",
       "    <tr>\n",
       "      <th>9</th>\n",
       "      <td>2017-11-11 12:00:00</td>\n",
       "      <td>Good</td>\n",
       "      <td>2040.0</td>\n",
       "    </tr>\n",
       "    <tr>\n",
       "      <th>10</th>\n",
       "      <td>2017-11-18 06:00:00</td>\n",
       "      <td>Good</td>\n",
       "      <td>1500.0</td>\n",
       "    </tr>\n",
       "    <tr>\n",
       "      <th>11</th>\n",
       "      <td>2017-11-04 11:00:00</td>\n",
       "      <td>Good</td>\n",
       "      <td>2040.0</td>\n",
       "    </tr>\n",
       "    <tr>\n",
       "      <th>12</th>\n",
       "      <td>2017-11-11 08:00:00</td>\n",
       "      <td>Good</td>\n",
       "      <td>1470.0</td>\n",
       "    </tr>\n",
       "    <tr>\n",
       "      <th>13</th>\n",
       "      <td>2017-11-04 08:00:00</td>\n",
       "      <td>Good</td>\n",
       "      <td>1546.0</td>\n",
       "    </tr>\n",
       "    <tr>\n",
       "      <th>14</th>\n",
       "      <td>2017-11-11 16:00:00</td>\n",
       "      <td>Good</td>\n",
       "      <td>2100.0</td>\n",
       "    </tr>\n",
       "    <tr>\n",
       "      <th>15</th>\n",
       "      <td>2017-11-25 13:00:00</td>\n",
       "      <td>Good</td>\n",
       "      <td>60.0</td>\n",
       "    </tr>\n",
       "    <tr>\n",
       "      <th>16</th>\n",
       "      <td>2017-11-04 12:00:00</td>\n",
       "      <td>Good</td>\n",
       "      <td>2640.0</td>\n",
       "    </tr>\n",
       "    <tr>\n",
       "      <th>17</th>\n",
       "      <td>2017-11-25 10:00:00</td>\n",
       "      <td>Good</td>\n",
       "      <td>1502.0</td>\n",
       "    </tr>\n",
       "    <tr>\n",
       "      <th>18</th>\n",
       "      <td>2017-11-11 12:00:00</td>\n",
       "      <td>Good</td>\n",
       "      <td>1915.0</td>\n",
       "    </tr>\n",
       "    <tr>\n",
       "      <th>19</th>\n",
       "      <td>2017-11-04 12:00:00</td>\n",
       "      <td>Good</td>\n",
       "      <td>2769.0</td>\n",
       "    </tr>\n",
       "  </tbody>\n",
       "</table>\n",
       "</div>"
      ],
      "text/plain": [
       "               start_ts weather_conditions  duration_seconds\n",
       "0   2017-11-25 16:00:00               Good            2410.0\n",
       "1   2017-11-25 14:00:00               Good            1920.0\n",
       "2   2017-11-25 12:00:00               Good            1543.0\n",
       "3   2017-11-04 10:00:00               Good            2512.0\n",
       "4   2017-11-11 07:00:00               Good            1440.0\n",
       "5   2017-11-11 04:00:00               Good            1320.0\n",
       "6   2017-11-04 16:00:00                Bad            2969.0\n",
       "7   2017-11-18 11:00:00               Good            2280.0\n",
       "8   2017-11-11 14:00:00               Good            2460.0\n",
       "9   2017-11-11 12:00:00               Good            2040.0\n",
       "10  2017-11-18 06:00:00               Good            1500.0\n",
       "11  2017-11-04 11:00:00               Good            2040.0\n",
       "12  2017-11-11 08:00:00               Good            1470.0\n",
       "13  2017-11-04 08:00:00               Good            1546.0\n",
       "14  2017-11-11 16:00:00               Good            2100.0\n",
       "15  2017-11-25 13:00:00               Good              60.0\n",
       "16  2017-11-04 12:00:00               Good            2640.0\n",
       "17  2017-11-25 10:00:00               Good            1502.0\n",
       "18  2017-11-11 12:00:00               Good            1915.0\n",
       "19  2017-11-04 12:00:00               Good            2769.0"
      ]
     },
     "execution_count": 6,
     "metadata": {},
     "output_type": "execute_result"
    }
   ],
   "source": [
    "# Obtener las 10 primeras filas del base de datos \n",
    "weather_data.head(20)"
   ]
  },
  {
   "cell_type": "markdown",
   "metadata": {},
   "source": [
    "# 1.4 Verificación de los datos. "
   ]
  },
  {
   "cell_type": "code",
   "execution_count": 7,
   "metadata": {},
   "outputs": [],
   "source": [
    "# Redondear los valores de la columna 'average_trips' a 2 decimales\n",
    "location_data['average_trips'] = location_data['average_trips'].round(2)"
   ]
  },
  {
   "cell_type": "code",
   "execution_count": 8,
   "metadata": {},
   "outputs": [
    {
     "data": {
      "text/html": [
       "<div>\n",
       "<style scoped>\n",
       "    .dataframe tbody tr th:only-of-type {\n",
       "        vertical-align: middle;\n",
       "    }\n",
       "\n",
       "    .dataframe tbody tr th {\n",
       "        vertical-align: top;\n",
       "    }\n",
       "\n",
       "    .dataframe thead th {\n",
       "        text-align: right;\n",
       "    }\n",
       "</style>\n",
       "<table border=\"1\" class=\"dataframe\">\n",
       "  <thead>\n",
       "    <tr style=\"text-align: right;\">\n",
       "      <th></th>\n",
       "      <th>dropoff_location_name</th>\n",
       "      <th>average_trips</th>\n",
       "    </tr>\n",
       "  </thead>\n",
       "  <tbody>\n",
       "    <tr>\n",
       "      <th>0</th>\n",
       "      <td>Loop</td>\n",
       "      <td>10727.47</td>\n",
       "    </tr>\n",
       "    <tr>\n",
       "      <th>1</th>\n",
       "      <td>River North</td>\n",
       "      <td>9523.67</td>\n",
       "    </tr>\n",
       "    <tr>\n",
       "      <th>2</th>\n",
       "      <td>Streeterville</td>\n",
       "      <td>6664.67</td>\n",
       "    </tr>\n",
       "    <tr>\n",
       "      <th>3</th>\n",
       "      <td>West Loop</td>\n",
       "      <td>5163.67</td>\n",
       "    </tr>\n",
       "    <tr>\n",
       "      <th>4</th>\n",
       "      <td>O'Hare</td>\n",
       "      <td>2546.90</td>\n",
       "    </tr>\n",
       "  </tbody>\n",
       "</table>\n",
       "</div>"
      ],
      "text/plain": [
       "  dropoff_location_name  average_trips\n",
       "0                  Loop       10727.47\n",
       "1           River North        9523.67\n",
       "2         Streeterville        6664.67\n",
       "3             West Loop        5163.67\n",
       "4                O'Hare        2546.90"
      ]
     },
     "execution_count": 8,
     "metadata": {},
     "output_type": "execute_result"
    }
   ],
   "source": [
    "# Verifiación de los cambios \n",
    "location_data.head()"
   ]
  },
  {
   "cell_type": "code",
   "execution_count": 9,
   "metadata": {},
   "outputs": [
    {
     "name": "stdout",
     "output_type": "stream",
     "text": [
      "Se encontro que hay: 0 duplicados en el DataFrame de Trips Data\n",
      "---------------------------------------------------------\n",
      "Se encotro que hay: 0 duplicados en el DataFrame de Loction Data\n",
      "---------------------------------------------------------\n",
      "Se encontró que hay: 197 duplicados en el DataFrame de Weather Data\n"
     ]
    }
   ],
   "source": [
    "#Verificación de que no haya duplicado. \n",
    "\n",
    "trips_data_dup = trips_data.duplicated().sum()\n",
    "print(f'Se encontro que hay: {trips_data_dup} duplicados en el DataFrame de Trips Data')\n",
    "\n",
    "print('---------------------------------------------------------')\n",
    "location_data_dup = location_data.duplicated().sum()\n",
    "print(f'Se encotro que hay: {location_data_dup} duplicados en el DataFrame de Loction Data')\n",
    "print('---------------------------------------------------------')\n",
    "\n",
    "weather_data_dup = weather_data.duplicated().sum()\n",
    "print(f'Se encontró que hay: {weather_data_dup} duplicados en el DataFrame de Weather Data')"
   ]
  },
  {
   "cell_type": "markdown",
   "metadata": {},
   "source": [
    "Se visualizo que hay 197 duplicados en el DataFrame de weather data, con esta información se tendra que eliminar los duplicados haya en dicho dataframe para poder tener un mejor análisis. "
   ]
  },
  {
   "cell_type": "code",
   "execution_count": 10,
   "metadata": {},
   "outputs": [
    {
     "name": "stdout",
     "output_type": "stream",
     "text": [
      "Duplicados después de la limpieza: 0\n"
     ]
    }
   ],
   "source": [
    "# Eliminar duplicados en weather_data\n",
    "weather_data_cleaned = weather_data.drop_duplicates()\n",
    "\n",
    "# Verificar si se eliminaron los duplicados\n",
    "print(f\"Duplicados después de la limpieza: {weather_data_cleaned.duplicated().sum()}\")\n"
   ]
  },
  {
   "cell_type": "code",
   "execution_count": 11,
   "metadata": {},
   "outputs": [],
   "source": [
    "#Convertir los datos \n",
    "weather_data['start_ts'] = pd.to_datetime(weather_data['start_ts'], errors='coerce')\n",
    "weather_data['duration_seconds'] = weather_data['duration_seconds'].astype(int)"
   ]
  },
  {
   "cell_type": "code",
   "execution_count": 12,
   "metadata": {},
   "outputs": [
    {
     "name": "stdout",
     "output_type": "stream",
     "text": [
      "<class 'pandas.core.frame.DataFrame'>\n",
      "RangeIndex: 1068 entries, 0 to 1067\n",
      "Data columns (total 3 columns):\n",
      " #   Column              Non-Null Count  Dtype         \n",
      "---  ------              --------------  -----         \n",
      " 0   start_ts            1068 non-null   datetime64[ns]\n",
      " 1   weather_conditions  1068 non-null   object        \n",
      " 2   duration_seconds    1068 non-null   int64         \n",
      "dtypes: datetime64[ns](1), int64(1), object(1)\n",
      "memory usage: 25.2+ KB\n",
      "\n",
      "\n"
     ]
    },
    {
     "data": {
      "text/html": [
       "<div>\n",
       "<style scoped>\n",
       "    .dataframe tbody tr th:only-of-type {\n",
       "        vertical-align: middle;\n",
       "    }\n",
       "\n",
       "    .dataframe tbody tr th {\n",
       "        vertical-align: top;\n",
       "    }\n",
       "\n",
       "    .dataframe thead th {\n",
       "        text-align: right;\n",
       "    }\n",
       "</style>\n",
       "<table border=\"1\" class=\"dataframe\">\n",
       "  <thead>\n",
       "    <tr style=\"text-align: right;\">\n",
       "      <th></th>\n",
       "      <th>start_ts</th>\n",
       "      <th>weather_conditions</th>\n",
       "      <th>duration_seconds</th>\n",
       "    </tr>\n",
       "  </thead>\n",
       "  <tbody>\n",
       "    <tr>\n",
       "      <th>0</th>\n",
       "      <td>2017-11-25 16:00:00</td>\n",
       "      <td>Good</td>\n",
       "      <td>2410</td>\n",
       "    </tr>\n",
       "    <tr>\n",
       "      <th>1</th>\n",
       "      <td>2017-11-25 14:00:00</td>\n",
       "      <td>Good</td>\n",
       "      <td>1920</td>\n",
       "    </tr>\n",
       "    <tr>\n",
       "      <th>2</th>\n",
       "      <td>2017-11-25 12:00:00</td>\n",
       "      <td>Good</td>\n",
       "      <td>1543</td>\n",
       "    </tr>\n",
       "    <tr>\n",
       "      <th>3</th>\n",
       "      <td>2017-11-04 10:00:00</td>\n",
       "      <td>Good</td>\n",
       "      <td>2512</td>\n",
       "    </tr>\n",
       "    <tr>\n",
       "      <th>4</th>\n",
       "      <td>2017-11-11 07:00:00</td>\n",
       "      <td>Good</td>\n",
       "      <td>1440</td>\n",
       "    </tr>\n",
       "  </tbody>\n",
       "</table>\n",
       "</div>"
      ],
      "text/plain": [
       "             start_ts weather_conditions  duration_seconds\n",
       "0 2017-11-25 16:00:00               Good              2410\n",
       "1 2017-11-25 14:00:00               Good              1920\n",
       "2 2017-11-25 12:00:00               Good              1543\n",
       "3 2017-11-04 10:00:00               Good              2512\n",
       "4 2017-11-11 07:00:00               Good              1440"
      ]
     },
     "execution_count": 12,
     "metadata": {},
     "output_type": "execute_result"
    }
   ],
   "source": [
    "#verificación de los cambios \n",
    "weather_data.info()\n",
    "print()\n",
    "print()\n",
    "weather_data.head()"
   ]
  },
  {
   "cell_type": "markdown",
   "metadata": {},
   "source": [
    "Se realizó esto para que start_ts se convierta en un formato de fecha y hora, y que duration_seconds se muestre como un entero para poder analizarlo de mejor manera. "
   ]
  },
  {
   "cell_type": "code",
   "execution_count": 13,
   "metadata": {},
   "outputs": [
    {
     "name": "stdout",
     "output_type": "stream",
     "text": [
      "company_name    0\n",
      "trips_amount    0\n",
      "dtype: int64\n",
      "\n",
      "\n",
      "dropoff_location_name    0\n",
      "average_trips            0\n",
      "dtype: int64\n",
      "\n",
      "\n",
      "start_ts              0\n",
      "weather_conditions    0\n",
      "duration_seconds      0\n",
      "dtype: int64\n"
     ]
    }
   ],
   "source": [
    "#comprobar los valores  ausentes \n",
    "trips_mis_val = trips_data.isna().sum()\n",
    "print(trips_mis_val)\n",
    "print()\n",
    "print()\n",
    "location_mis_val = location_data.isna().sum()\n",
    "print(location_mis_val)\n",
    "print()\n",
    "print()\n",
    "weather_mis_val = weather_data.isna().sum()\n",
    "print(weather_mis_val)"
   ]
  },
  {
   "cell_type": "markdown",
   "metadata": {},
   "source": [
    " Se realizó este análisis para poder comprobar de que con las bases de datos con las que se esta trabajando no tenga valores ausentes y en el caso de que tuvieran. Se tendría que rellenarlos"
   ]
  },
  {
   "cell_type": "markdown",
   "metadata": {},
   "source": [
    "# 2. Identificación de los top 10 "
   ]
  },
  {
   "cell_type": "code",
   "execution_count": 14,
   "metadata": {},
   "outputs": [
    {
     "name": "stdout",
     "output_type": "stream",
     "text": [
      "  dropoff_location_name  average_trips\n",
      "0                  Loop       10727.47\n",
      "1           River North        9523.67\n",
      "2         Streeterville        6664.67\n",
      "3             West Loop        5163.67\n",
      "4                O'Hare        2546.90\n",
      "5             Lake View        2420.97\n",
      "6            Grant Park        2068.53\n",
      "7         Museum Campus        1510.00\n",
      "8            Gold Coast        1364.23\n",
      "9    Sheffield & DePaul        1259.77\n"
     ]
    }
   ],
   "source": [
    "top_location = location_data.nlargest(10, 'average_trips')\n",
    "print(top_location)"
   ]
  },
  {
   "cell_type": "markdown",
   "metadata": {},
   "source": [
    "# 3. Gráfica"
   ]
  },
  {
   "cell_type": "code",
   "execution_count": 15,
   "metadata": {},
   "outputs": [
    {
     "name": "stdout",
     "output_type": "stream",
     "text": [
      "                        company_name  trips_amount\n",
      "0                          Flash Cab         19558\n",
      "1          Taxi Affiliation Services         11422\n",
      "2                  Medallion Leasing         10367\n",
      "3                         Yellow Cab          9888\n",
      "4    Taxi Affiliation Service Yellow          9299\n",
      "5          Chicago Carriage Cab Corp          9181\n",
      "6                       City Service          8448\n",
      "7                           Sun Taxi          7701\n",
      "8          Star North Management LLC          7455\n",
      "9  Blue Ribbon Taxi Association Inc.          5953\n"
     ]
    }
   ],
   "source": [
    "#filtrar las 10 companias con mayores viajes. \n",
    "top_company = trips_data.nlargest(10, 'trips_amount')\n",
    "print(top_company)\n"
   ]
  },
  {
   "cell_type": "code",
   "execution_count": 16,
   "metadata": {},
   "outputs": [
    {
     "data": {
      "text/plain": [
       "<Figure size 1000x600 with 0 Axes>"
      ]
     },
     "metadata": {},
     "output_type": "display_data"
    },
    {
     "data": {
      "image/png": "[encoded data removed]",
      "text/plain": [
       "<Figure size 640x480 with 1 Axes>"
      ]
     },
     "metadata": {},
     "output_type": "display_data"
    }
   ],
   "source": [
    "# Graficar empresas de taxis y número de viajes\n",
    "plt.figure(figsize=(10, 6))\n",
    "\n",
    "top_company.plot(kind='bar',\n",
    "                x = 'company_name',\n",
    "                y='trips_amount', \n",
    "                width=0.8,\n",
    "                xlabel = 'Company Name', \n",
    "                ylabel = 'Trips Amount',\n",
    "                title = 'Número de viajes por Empresas de Taxi')\n",
    "plt.xticks(rotation=90,ha='left')\n",
    "plt.tight_layout()\n",
    "plt.show()"
   ]
  },
  {
   "cell_type": "markdown",
   "metadata": {},
   "source": [
    "Dado el gran número de compañías analizadas, se decidió enfocar el estudio en los top 10 principales. En este análisis, se identificó a Flash Card como el principal competidor de Zuber, con un total de 19,558 viajes en solo dos días. Este dato sugiere que sería interesante investigar qué tipo de servicio ofrece Flash Card y por qué los usuarios la prefieren sobre otras compañías. Además, es importante destacar que Taxi Affiliation Services y Medallion Leasing también son competidores significativos en el mercado."
   ]
  },
  {
   "cell_type": "code",
   "execution_count": 17,
   "metadata": {},
   "outputs": [
    {
     "data": {
      "text/plain": [
       "<Figure size 1000x600 with 0 Axes>"
      ]
     },
     "metadata": {},
     "output_type": "display_data"
    },
    {
     "data": {
      "image/png": "[encoded data removed]",
      "text/plain": [
       "<Figure size 640x480 with 1 Axes>"
      ]
     },
     "metadata": {},
     "output_type": "display_data"
    }
   ],
   "source": [
    "# Graficar los 10 barrios principales por número de finalizaciones\n",
    "plt.figure(figsize=(10, 6))\n",
    "\n",
    "top_location.plot(kind='bar',\n",
    "                x = 'dropoff_location_name',\n",
    "                y='average_trips', \n",
    "                width=0.8,\n",
    "                xlabel = 'Dropoff Location Name', \n",
    "                ylabel = 'Average Trips',\n",
    "                title = 'Top 10 barrios principales')\n",
    "plt.xticks(rotation=90,ha='left')\n",
    "plt.tight_layout()\n",
    "plt.show()"
   ]
  },
  {
   "cell_type": "markdown",
   "metadata": {},
   "source": [
    "Con esta gráfica se puede analizar el top 10 de las mejores ubicaciones de destino en cada barrio de Chicago durante noviembre de 2017. El barrio más destacado es Loop, que cuenta con un promedio de 10,727.47 viajes. Este resultado sugiere que Loop es un destino popular y podría estar relacionado con su papel como centro económico y comercial de la ciudad.\n",
    "\n",
    "Otros barrios con un alto promedio de viajes incluyen River North con 9,523.67 viajes y Streeterville con 6,664.67 viajes, ambos conocidos por su vida nocturna y atracciones turísticas. West Loop sigue con 5,163.67 viajes, un área en crecimiento en términos de restaurantes y oficinas."
   ]
  },
  {
   "cell_type": "markdown",
   "metadata": {},
   "source": [
    "# 4 Prueba la hipótesis"
   ]
  },
  {
   "cell_type": "markdown",
   "metadata": {},
   "source": [
    "Se planteara las hipótesis nula y alternativa. \n",
    "\n",
    "Hipótesis nula (H0): La duración promedio de los viajes desde el Loop hasta el Aeropuerto Internacional O'Hare no cambia los sábados lluviosos.\n",
    "\n",
    "Hipótesis alternativa (H1): La duración promedio de los viajes desde el Loop hasta el Aeropuerto Internacional O'Hare cambia los sábados lluviosos."
   ]
  },
  {
   "cell_type": "code",
   "execution_count": 21,
   "metadata": {},
   "outputs": [
    {
     "name": "stdout",
     "output_type": "stream",
     "text": [
      "Estadístico de Levene: 0.38853489683656073\n",
      "Valor p de Levene: 0.5332038671974493\n",
      "¿Las varianzas son iguales?:  Sí\n",
      "\n",
      "\n",
      "Estadístico de t: 6.946177714041499\n",
      "Valor p: 6.517970327099473e-12\n",
      "\n",
      "\n",
      "Rechazamos la hipótesis nula: La duración promedio de los viajes desde el Loop hasta el Aeropuerto Internacional O'Hare cambia los sábados lluviosos.\n"
     ]
    }
   ],
   "source": [
    "#Primer paso: filtrar los datos para los días sábados lluviosos y no\n",
    "rainy_saturday = weather_data[\n",
    "    (weather_data['weather_conditions'] == 'Bad') &\n",
    "    (weather_data['start_ts'].dt.day_name() == 'Saturday')\n",
    "]\n",
    "\n",
    "non_rainy_saturday = weather_data[\n",
    "    (weather_data['weather_conditions'] != 'Bad') &\n",
    "    (weather_data['start_ts'].dt.day_name() == 'Saturday')\n",
    "]\n",
    "\n",
    "#Segundo paso: Tomar la Duración del vaije\n",
    "rainy_duration = rainy_saturday['duration_seconds']\n",
    "non_rainy_duration = non_rainy_saturday['duration_seconds']\n",
    "\n",
    "#Tercer paso:  Realizar la prueba de Levene para comparar varianzas\n",
    "levene_stat, levene_p_value = st.levene(rainy_duration, non_rainy_duration)\n",
    "\n",
    "#Cuarto paso: Decidir si las varianzas son iguales o no. \n",
    "equal_var = levene_p_value > 0.05\n",
    "\n",
    "#Quinto paso: Realizar  la prueba t para muestras independiente \n",
    "t_stat, p_value = st.ttest_ind(rainy_duration, non_rainy_duration, equal_var = equal_var) \n",
    "\n",
    "#Sexto paso: Imprimir los resultados obtenidos de la prueba de Levene \n",
    "print(f'Estadístico de Levene: {levene_stat}')\n",
    "print(f'Valor p de Levene: {levene_p_value}')\n",
    "print(f\"¿Las varianzas son iguales?:  {'Sí' if equal_var else 'No'}\")\n",
    "print()\n",
    "print()\n",
    "\n",
    "#Septimo paso: Imprimir los resultados obtenidos de la prueba t \n",
    "print(f\"Estadístico de t: {t_stat}\")\n",
    "print(f\"Valor p: {p_value}\")\n",
    "print()\n",
    "print()\n",
    "\n",
    "#Octavo paso: Interpretar los resultados\n",
    "alpha = 0.05\n",
    "if p_value < alpha:\n",
    "    print(\"Rechazamos la hipótesis nula: La duración promedio de los viajes desde el Loop hasta el Aeropuerto Internacional O'Hare cambia los sábados lluviosos.\")\n",
    "else:\n",
    "    print(\"No rechazamos la hipótesis nula: La duración promedio de los viajes desde el Loop hasta el Aeropuerto Internacional O'Hare no cambia los sábados lluviosos.\")"
   ]
  },
  {
   "cell_type": "markdown",
   "metadata": {},
   "source": [
    "# 5 Conclusión.\n",
    "\n",
    "Al analizar el comportamiento del mercado y las dinámicas del servicio de Zuber en Chicago, se identificaron áreas clave para optimizar y mejorar la oferta de la empresa. Este análisis proporciona una visión integral para orientar estrategias que permitan ofrecer un servicio más eficiente y acorde a las necesidades de los clientes.\n",
    "\n",
    "Se destacó que el barrio más concurrido es Loop, un destino popular probablemente relacionado con su papel como centro económico y comercial de la ciudad. Este hallazgo sugiere que Zuber podría beneficiarse al enfocar más recursos, como aumentar la disponibilidad de unidades, en esta área para satisfacer mejor la demanda de los usuarios.\n",
    "\n",
    "Además, es importante examinar en profundidad por qué Flash Card es la opción preferida por los usuarios. Esto podría estar relacionado con factores como el precio, la calidad del servicio, o las características de las unidades utilizadas. Comprender estos aspectos permitirá a Zuber ajustar su oferta y mejorar la satisfacción del cliente.\n",
    "\n",
    "Finalmente, en la hipótesis planteada sobre la duración de los viajes los sábados lluviosos desde Loop hasta el Aeropuerto Internacional O'Hare, se observó que los tiempos de viaje se alargan en estas condiciones. Este resultado subraya la importancia de considerar el impacto del clima en la planificación y gestión de la flota para minimizar los tiempos de espera y mejorar la experiencia del usuario en días con condiciones adversas."
   ]
  }
 ],
 "metadata": {
  "ExecuteTimeLog": [
   {
    "duration": 2691,
    "start_time": "2024-09-02T17:22:45.056Z"
   },
   {
    "duration": 15,
    "start_time": "2024-09-02T17:22:48.702Z"
   },
   {
    "duration": 26,
    "start_time": "2024-09-02T17:26:59.815Z"
   },
   {
    "duration": 22,
    "start_time": "2024-09-02T17:27:31.129Z"
   },
   {
    "duration": 21,
    "start_time": "2024-09-02T17:34:04.563Z"
   },
   {
    "duration": 6,
    "start_time": "2024-09-02T17:35:27.119Z"
   },
   {
    "duration": 6,
    "start_time": "2024-09-02T17:36:02.395Z"
   },
   {
    "duration": 247,
    "start_time": "2024-09-02T17:42:30.211Z"
   },
   {
    "duration": 876,
    "start_time": "2024-09-02T17:42:43.815Z"
   },
   {
    "duration": 22,
    "start_time": "2024-09-02T17:42:45.226Z"
   },
   {
    "duration": 34,
    "start_time": "2024-09-02T17:42:46.948Z"
   },
   {
    "duration": 6,
    "start_time": "2024-09-02T17:42:52.357Z"
   },
   {
    "duration": 7,
    "start_time": "2024-09-02T17:42:54.716Z"
   },
   {
    "duration": 6,
    "start_time": "2024-09-02T17:43:25.800Z"
   },
   {
    "duration": 6,
    "start_time": "2024-09-02T17:53:38.998Z"
   },
   {
    "duration": 7,
    "start_time": "2024-09-02T17:53:58.697Z"
   },
   {
    "duration": 10,
    "start_time": "2024-09-02T17:54:10.255Z"
   },
   {
    "duration": 13,
    "start_time": "2024-09-02T17:54:29.097Z"
   },
   {
    "duration": 7,
    "start_time": "2024-09-02T17:59:45.082Z"
   },
   {
    "duration": 7,
    "start_time": "2024-09-02T18:07:21.451Z"
   },
   {
    "duration": 805,
    "start_time": "2024-09-02T18:08:10.497Z"
   },
   {
    "duration": 15,
    "start_time": "2024-09-02T18:08:11.689Z"
   },
   {
    "duration": 33,
    "start_time": "2024-09-02T18:08:12.536Z"
   },
   {
    "duration": 6,
    "start_time": "2024-09-02T18:08:13.059Z"
   },
   {
    "duration": 6,
    "start_time": "2024-09-02T18:08:13.633Z"
   },
   {
    "duration": 7,
    "start_time": "2024-09-02T18:08:14.210Z"
   },
   {
    "duration": 6,
    "start_time": "2024-09-02T18:08:15.365Z"
   },
   {
    "duration": 13,
    "start_time": "2024-09-02T18:08:16.088Z"
   },
   {
    "duration": 8,
    "start_time": "2024-09-02T18:08:17.222Z"
   },
   {
    "duration": 269,
    "start_time": "2024-09-02T18:31:12.935Z"
   },
   {
    "duration": 556,
    "start_time": "2024-09-02T18:31:20.471Z"
   },
   {
    "duration": 6,
    "start_time": "2024-09-02T18:31:38.878Z"
   },
   {
    "duration": 15,
    "start_time": "2024-09-02T18:33:14.026Z"
   },
   {
    "duration": 14,
    "start_time": "2024-09-02T18:33:22.133Z"
   },
   {
    "duration": 3,
    "start_time": "2024-09-02T18:33:26.714Z"
   },
   {
    "duration": 844,
    "start_time": "2024-09-02T18:34:04.058Z"
   },
   {
    "duration": 20,
    "start_time": "2024-09-02T18:34:04.905Z"
   },
   {
    "duration": 32,
    "start_time": "2024-09-02T18:34:05.663Z"
   },
   {
    "duration": 6,
    "start_time": "2024-09-02T18:34:06.083Z"
   },
   {
    "duration": 6,
    "start_time": "2024-09-02T18:34:06.607Z"
   },
   {
    "duration": 6,
    "start_time": "2024-09-02T18:34:07.179Z"
   },
   {
    "duration": 3,
    "start_time": "2024-09-02T18:34:08.109Z"
   },
   {
    "duration": 6,
    "start_time": "2024-09-02T18:34:08.556Z"
   },
   {
    "duration": 5,
    "start_time": "2024-09-02T18:34:10.592Z"
   },
   {
    "duration": 15,
    "start_time": "2024-09-02T18:34:11.172Z"
   },
   {
    "duration": 7,
    "start_time": "2024-09-02T18:34:12.257Z"
   },
   {
    "duration": 6,
    "start_time": "2024-09-02T18:34:13.738Z"
   },
   {
    "duration": 2908,
    "start_time": "2024-09-02T20:16:27.689Z"
   },
   {
    "duration": 28,
    "start_time": "2024-09-02T20:16:30.599Z"
   },
   {
    "duration": 34,
    "start_time": "2024-09-02T20:16:30.628Z"
   },
   {
    "duration": 9,
    "start_time": "2024-09-02T20:16:30.876Z"
   },
   {
    "duration": 8,
    "start_time": "2024-09-02T20:16:31.570Z"
   },
   {
    "duration": 8,
    "start_time": "2024-09-02T20:16:32.142Z"
   },
   {
    "duration": 2,
    "start_time": "2024-09-02T20:16:33.361Z"
   },
   {
    "duration": 6,
    "start_time": "2024-09-02T20:16:33.991Z"
   },
   {
    "duration": 5,
    "start_time": "2024-09-02T20:16:34.955Z"
   },
   {
    "duration": 13,
    "start_time": "2024-09-02T20:16:35.634Z"
   },
   {
    "duration": 7,
    "start_time": "2024-09-02T20:16:36.866Z"
   },
   {
    "duration": 6,
    "start_time": "2024-09-02T20:16:39.000Z"
   },
   {
    "duration": 5,
    "start_time": "2024-09-02T20:20:01.000Z"
   },
   {
    "duration": 1021,
    "start_time": "2024-09-02T20:39:07.405Z"
   },
   {
    "duration": 1012,
    "start_time": "2024-09-02T20:40:02.083Z"
   },
   {
    "duration": 986,
    "start_time": "2024-09-02T20:40:18.451Z"
   },
   {
    "duration": 4,
    "start_time": "2024-09-02T20:42:25.828Z"
   },
   {
    "duration": 1239,
    "start_time": "2024-09-02T20:42:39.641Z"
   },
   {
    "duration": 4,
    "start_time": "2024-09-02T20:43:06.665Z"
   },
   {
    "duration": 1237,
    "start_time": "2024-09-02T20:43:12.423Z"
   },
   {
    "duration": 1238,
    "start_time": "2024-09-02T20:43:31.126Z"
   },
   {
    "duration": 1174,
    "start_time": "2024-09-02T20:43:57.590Z"
   },
   {
    "duration": 1192,
    "start_time": "2024-09-02T20:44:07.559Z"
   },
   {
    "duration": 1265,
    "start_time": "2024-09-02T20:44:18.431Z"
   },
   {
    "duration": 1206,
    "start_time": "2024-09-02T20:44:50.816Z"
   },
   {
    "duration": 1237,
    "start_time": "2024-09-02T20:47:21.840Z"
   },
   {
    "duration": 1197,
    "start_time": "2024-09-02T20:47:33.137Z"
   },
   {
    "duration": 1218,
    "start_time": "2024-09-02T20:49:59.387Z"
   },
   {
    "duration": 1247,
    "start_time": "2024-09-02T21:45:18.085Z"
   },
   {
    "duration": 1179,
    "start_time": "2024-09-02T21:46:24.086Z"
   },
   {
    "duration": 1164,
    "start_time": "2024-09-02T21:46:34.371Z"
   },
   {
    "duration": 1165,
    "start_time": "2024-09-02T21:46:47.080Z"
   },
   {
    "duration": 1184,
    "start_time": "2024-09-02T21:46:56.436Z"
   },
   {
    "duration": 1208,
    "start_time": "2024-09-02T21:47:07.219Z"
   },
   {
    "duration": 1191,
    "start_time": "2024-09-02T21:47:17.726Z"
   },
   {
    "duration": 214,
    "start_time": "2024-09-02T21:52:19.679Z"
   },
   {
    "duration": 13,
    "start_time": "2024-09-02T21:55:23.448Z"
   },
   {
    "duration": 5,
    "start_time": "2024-09-02T21:55:30.121Z"
   },
   {
    "duration": 1193,
    "start_time": "2024-09-02T21:55:39.112Z"
   },
   {
    "duration": 338,
    "start_time": "2024-09-02T21:55:55.714Z"
   },
   {
    "duration": 5,
    "start_time": "2024-09-02T21:56:15.737Z"
   },
   {
    "duration": 296,
    "start_time": "2024-09-02T21:56:19.502Z"
   },
   {
    "duration": 308,
    "start_time": "2024-09-02T21:56:45.351Z"
   },
   {
    "duration": 5,
    "start_time": "2024-09-02T21:57:11.879Z"
   },
   {
    "duration": 377,
    "start_time": "2024-09-02T21:57:12.664Z"
   },
   {
    "duration": 6,
    "start_time": "2024-09-02T21:58:00.239Z"
   },
   {
    "duration": 1169,
    "start_time": "2024-09-02T21:58:09.066Z"
   },
   {
    "duration": 5,
    "start_time": "2024-09-02T21:58:41.824Z"
   },
   {
    "duration": 382,
    "start_time": "2024-09-02T21:58:42.657Z"
   },
   {
    "duration": 235,
    "start_time": "2024-09-02T22:07:49.827Z"
   },
   {
    "duration": 813,
    "start_time": "2024-09-02T22:18:08.041Z"
   },
   {
    "duration": 12,
    "start_time": "2024-09-02T22:18:08.856Z"
   },
   {
    "duration": 30,
    "start_time": "2024-09-02T22:18:08.889Z"
   },
   {
    "duration": 5,
    "start_time": "2024-09-02T22:18:09.103Z"
   },
   {
    "duration": 5,
    "start_time": "2024-09-02T22:18:09.529Z"
   },
   {
    "duration": 7,
    "start_time": "2024-09-02T22:18:09.718Z"
   },
   {
    "duration": 3,
    "start_time": "2024-09-02T22:18:10.128Z"
   },
   {
    "duration": 6,
    "start_time": "2024-09-02T22:18:10.346Z"
   },
   {
    "duration": 7,
    "start_time": "2024-09-02T22:18:10.550Z"
   },
   {
    "duration": 13,
    "start_time": "2024-09-02T22:18:10.963Z"
   },
   {
    "duration": 7,
    "start_time": "2024-09-02T22:18:11.369Z"
   },
   {
    "duration": 6,
    "start_time": "2024-09-02T22:18:11.997Z"
   },
   {
    "duration": 8,
    "start_time": "2024-09-02T22:18:12.420Z"
   },
   {
    "duration": 398,
    "start_time": "2024-09-02T22:18:12.608Z"
   },
   {
    "duration": 225,
    "start_time": "2024-09-02T22:18:13.053Z"
   },
   {
    "duration": 265,
    "start_time": "2024-09-02T22:49:19.586Z"
   },
   {
    "duration": 361,
    "start_time": "2024-09-02T22:50:33.692Z"
   },
   {
    "duration": 4,
    "start_time": "2024-09-02T22:53:01.754Z"
   },
   {
    "duration": 8,
    "start_time": "2024-09-02T22:53:22.948Z"
   },
   {
    "duration": 7,
    "start_time": "2024-09-02T22:59:37.360Z"
   },
   {
    "duration": 9,
    "start_time": "2024-09-02T23:00:05.560Z"
   },
   {
    "duration": 9,
    "start_time": "2024-09-02T23:02:10.134Z"
   },
   {
    "duration": 2585,
    "start_time": "2024-09-04T14:10:22.044Z"
   },
   {
    "duration": 26,
    "start_time": "2024-09-04T14:10:24.632Z"
   },
   {
    "duration": 32,
    "start_time": "2024-09-04T14:10:24.659Z"
   },
   {
    "duration": 5,
    "start_time": "2024-09-04T14:10:24.694Z"
   },
   {
    "duration": 6,
    "start_time": "2024-09-04T14:10:24.701Z"
   },
   {
    "duration": 8,
    "start_time": "2024-09-04T14:10:24.955Z"
   },
   {
    "duration": 3,
    "start_time": "2024-09-04T14:10:25.809Z"
   },
   {
    "duration": 6,
    "start_time": "2024-09-04T14:10:26.253Z"
   },
   {
    "duration": 4,
    "start_time": "2024-09-04T14:10:26.833Z"
   },
   {
    "duration": 13,
    "start_time": "2024-09-04T14:10:27.352Z"
   },
   {
    "duration": 8,
    "start_time": "2024-09-04T14:10:28.229Z"
   },
   {
    "duration": 6,
    "start_time": "2024-09-04T14:10:30.944Z"
   },
   {
    "duration": 5,
    "start_time": "2024-09-04T14:10:35.754Z"
   },
   {
    "duration": 297,
    "start_time": "2024-09-04T14:10:38.211Z"
   },
   {
    "duration": 258,
    "start_time": "2024-09-04T14:10:58.502Z"
   },
   {
    "duration": 8,
    "start_time": "2024-09-04T14:25:45.228Z"
   },
   {
    "duration": 6,
    "start_time": "2024-09-04T14:27:24.975Z"
   },
   {
    "duration": 7,
    "start_time": "2024-09-04T14:28:25.345Z"
   },
   {
    "duration": 6,
    "start_time": "2024-09-04T14:30:39.089Z"
   },
   {
    "duration": 6,
    "start_time": "2024-09-04T14:51:31.402Z"
   },
   {
    "duration": 5,
    "start_time": "2024-09-04T14:51:34.410Z"
   },
   {
    "duration": 12,
    "start_time": "2024-09-04T14:51:37.379Z"
   },
   {
    "duration": 7,
    "start_time": "2024-09-04T14:51:43.339Z"
   },
   {
    "duration": 6,
    "start_time": "2024-09-04T14:51:46.956Z"
   },
   {
    "duration": 5,
    "start_time": "2024-09-04T14:51:49.318Z"
   },
   {
    "duration": 218,
    "start_time": "2024-09-04T14:51:54.960Z"
   },
   {
    "duration": 283,
    "start_time": "2024-09-04T15:08:52.722Z"
   },
   {
    "duration": 10,
    "start_time": "2024-09-04T15:09:34.488Z"
   },
   {
    "duration": 11,
    "start_time": "2024-09-04T15:10:02.090Z"
   },
   {
    "duration": 850,
    "start_time": "2024-10-28T17:22:23.392Z"
   },
   {
    "duration": 23,
    "start_time": "2024-10-28T17:22:25.282Z"
   },
   {
    "duration": 39,
    "start_time": "2024-10-28T17:22:25.991Z"
   },
   {
    "duration": 7,
    "start_time": "2024-10-28T17:22:26.629Z"
   },
   {
    "duration": 7,
    "start_time": "2024-10-28T17:22:27.164Z"
   },
   {
    "duration": 9,
    "start_time": "2024-10-28T17:22:27.656Z"
   },
   {
    "duration": 4,
    "start_time": "2024-10-28T17:22:28.608Z"
   },
   {
    "duration": 7,
    "start_time": "2024-10-28T17:22:29.166Z"
   },
   {
    "duration": 8,
    "start_time": "2024-10-28T17:22:29.722Z"
   },
   {
    "duration": 6,
    "start_time": "2024-10-28T17:22:30.719Z"
   },
   {
    "duration": 5,
    "start_time": "2024-10-28T17:22:31.279Z"
   },
   {
    "duration": 15,
    "start_time": "2024-10-28T17:22:31.740Z"
   },
   {
    "duration": 8,
    "start_time": "2024-10-28T17:22:32.810Z"
   },
   {
    "duration": 7,
    "start_time": "2024-10-28T17:22:34.272Z"
   },
   {
    "duration": 5,
    "start_time": "2024-10-28T17:22:35.457Z"
   },
   {
    "duration": 316,
    "start_time": "2024-10-28T17:22:35.979Z"
   },
   {
    "duration": 256,
    "start_time": "2024-10-28T17:22:47.332Z"
   },
   {
    "duration": 13,
    "start_time": "2024-10-28T17:22:50.560Z"
   },
   {
    "duration": 10,
    "start_time": "2024-10-28T17:26:20.536Z"
   },
   {
    "duration": 13,
    "start_time": "2024-10-28T17:30:00.649Z"
   },
   {
    "duration": 18,
    "start_time": "2024-10-28T17:31:27.613Z"
   }
  ],
  "kernelspec": {
   "display_name": "Python 3 (ipykernel)",
   "language": "python",
   "name": "python3"
  },
  "language_info": {
   "codemirror_mode": {
    "name": "ipython",
    "version": 3
   },
   "file_extension": ".py",
   "mimetype": "text/x-python",
   "name": "python",
   "nbconvert_exporter": "python",
   "pygments_lexer": "ipython3",
   "version": "3.9.19"
  },
  "toc": {
   "base_numbering": 1,
   "nav_menu": {},
   "number_sections": true,
   "sideBar": true,
   "skip_h1_title": true,
   "title_cell": "Table of Contents",
   "title_sidebar": "Contents",
   "toc_cell": false,
   "toc_position": {},
   "toc_section_display": true,
   "toc_window_display": false
  }
 },
 "nbformat": 4,
 "nbformat_minor": 2
}
